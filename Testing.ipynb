{
 "cells": [
  {
   "cell_type": "code",
   "execution_count": 1,
   "metadata": {},
   "outputs": [],
   "source": [
    "import requests\n",
    "from bs4 import BeautifulSoup as BS\n",
    "from selenium import webdriver\n",
    "import time\n",
    "from selenium.webdriver.chrome.options import Options\n",
    "import pandas as pd\n",
    "import seaborn as sns\n",
    "import matplotlib.pyplot as plt\n",
    "import numpy as np\n",
    "from scipy.stats import linregress\n",
    "from scipy import stats\n",
    "from scipy.stats import pearsonr\n",
    "from statsmodels.stats.multicomp import pairwise_tukeyhsd\n",
    "from statsmodels.stats.multicomp import MultiComparison\n",
    "import pandas as pd\n",
    "from plotly.subplots import make_subplots\n",
    "import plotly.graph_objects as go\n",
    "from sklearn.preprocessing import MinMaxScaler"
   ]
  },
  {
   "cell_type": "code",
   "execution_count": 9,
   "metadata": {},
   "outputs": [],
   "source": [
    "df = pd.read_csv('Expanded_Table.csv')\n",
    "df['fp_100_mhhi'].fillna(df['fp_100_mhhi'].mean(), inplace=True)"
   ]
  },
  {
   "cell_type": "code",
   "execution_count": 12,
   "metadata": {},
   "outputs": [
    {
     "data": {
      "text/html": [
       "<div>\n",
       "<style scoped>\n",
       "    .dataframe tbody tr th:only-of-type {\n",
       "        vertical-align: middle;\n",
       "    }\n",
       "\n",
       "    .dataframe tbody tr th {\n",
       "        vertical-align: top;\n",
       "    }\n",
       "\n",
       "    .dataframe thead th {\n",
       "        text-align: right;\n",
       "    }\n",
       "</style>\n",
       "<table border=\"1\" class=\"dataframe\">\n",
       "  <thead>\n",
       "    <tr style=\"text-align: right;\">\n",
       "      <th></th>\n",
       "      <th>borocd</th>\n",
       "      <th>cd_short_title</th>\n",
       "      <th>IPV_DIR</th>\n",
       "      <th>FAM_DIR</th>\n",
       "      <th>FAM_Fel_Assault</th>\n",
       "      <th>DV_Fel_Assault</th>\n",
       "      <th>FAM_Rape</th>\n",
       "      <th>DV_Rape</th>\n",
       "      <th>lots_parking</th>\n",
       "      <th>acres</th>\n",
       "      <th>...</th>\n",
       "      <th>son_issue_1</th>\n",
       "      <th>son_issue_2</th>\n",
       "      <th>son_issue_3</th>\n",
       "      <th>total_lot_area</th>\n",
       "      <th>under18_rate</th>\n",
       "      <th>under18_rate_boro</th>\n",
       "      <th>under18_rate_nyc</th>\n",
       "      <th>unemployment_boro</th>\n",
       "      <th>unemployment_cd</th>\n",
       "      <th>unemployment_nyc</th>\n",
       "    </tr>\n",
       "  </thead>\n",
       "  <tbody>\n",
       "    <tr>\n",
       "      <th>0</th>\n",
       "      <td>101</td>\n",
       "      <td>Manhattan CD 1</td>\n",
       "      <td>0.034338</td>\n",
       "      <td>121</td>\n",
       "      <td>2</td>\n",
       "      <td>18</td>\n",
       "      <td>0</td>\n",
       "      <td>0</td>\n",
       "      <td>23</td>\n",
       "      <td>976.3</td>\n",
       "      <td>...</td>\n",
       "      <td>Resiliency</td>\n",
       "      <td>Traffic</td>\n",
       "      <td>Other</td>\n",
       "      <td>36115322</td>\n",
       "      <td>12.8</td>\n",
       "      <td>14.5</td>\n",
       "      <td>21</td>\n",
       "      <td>4.2</td>\n",
       "      <td>2.8</td>\n",
       "      <td>4.9</td>\n",
       "    </tr>\n",
       "    <tr>\n",
       "      <th>1</th>\n",
       "      <td>102</td>\n",
       "      <td>Manhattan CD 2</td>\n",
       "      <td>0.000000</td>\n",
       "      <td>159</td>\n",
       "      <td>4</td>\n",
       "      <td>19</td>\n",
       "      <td>0</td>\n",
       "      <td>0</td>\n",
       "      <td>52</td>\n",
       "      <td>865.9</td>\n",
       "      <td>...</td>\n",
       "      <td>Affordable housing</td>\n",
       "      <td>Parks</td>\n",
       "      <td>Schools</td>\n",
       "      <td>25696432</td>\n",
       "      <td>12.8</td>\n",
       "      <td>14.5</td>\n",
       "      <td>21</td>\n",
       "      <td>4.2</td>\n",
       "      <td>2.8</td>\n",
       "      <td>4.9</td>\n",
       "    </tr>\n",
       "    <tr>\n",
       "      <th>2</th>\n",
       "      <td>103</td>\n",
       "      <td>Manhattan CD 3</td>\n",
       "      <td>0.332372</td>\n",
       "      <td>1497</td>\n",
       "      <td>51</td>\n",
       "      <td>123</td>\n",
       "      <td>3</td>\n",
       "      <td>18</td>\n",
       "      <td>57</td>\n",
       "      <td>1076.9</td>\n",
       "      <td>...</td>\n",
       "      <td>Affordable housing</td>\n",
       "      <td>Senior services</td>\n",
       "      <td>Other</td>\n",
       "      <td>33692052</td>\n",
       "      <td>11.7</td>\n",
       "      <td>14.5</td>\n",
       "      <td>21</td>\n",
       "      <td>4.2</td>\n",
       "      <td>4.1</td>\n",
       "      <td>4.9</td>\n",
       "    </tr>\n",
       "    <tr>\n",
       "      <th>3</th>\n",
       "      <td>104</td>\n",
       "      <td>Manhattan CD 4</td>\n",
       "      <td>0.216252</td>\n",
       "      <td>568</td>\n",
       "      <td>7</td>\n",
       "      <td>58</td>\n",
       "      <td>2</td>\n",
       "      <td>10</td>\n",
       "      <td>77</td>\n",
       "      <td>1131.6</td>\n",
       "      <td>...</td>\n",
       "      <td>Affordable housing</td>\n",
       "      <td>Neighborhood preservation (development trends)</td>\n",
       "      <td>Traffic</td>\n",
       "      <td>38177268</td>\n",
       "      <td>8.2</td>\n",
       "      <td>14.5</td>\n",
       "      <td>21</td>\n",
       "      <td>4.2</td>\n",
       "      <td>3.7</td>\n",
       "      <td>4.9</td>\n",
       "    </tr>\n",
       "    <tr>\n",
       "      <th>4</th>\n",
       "      <td>105</td>\n",
       "      <td>Manhattan CD 5</td>\n",
       "      <td>0.087287</td>\n",
       "      <td>251</td>\n",
       "      <td>9</td>\n",
       "      <td>38</td>\n",
       "      <td>1</td>\n",
       "      <td>5</td>\n",
       "      <td>39</td>\n",
       "      <td>1005.4</td>\n",
       "      <td>...</td>\n",
       "      <td>Affordable housing</td>\n",
       "      <td>Social services (including services for the ho...</td>\n",
       "      <td>Transit (buses &amp; subways)</td>\n",
       "      <td>28192622</td>\n",
       "      <td>8.2</td>\n",
       "      <td>14.5</td>\n",
       "      <td>21</td>\n",
       "      <td>4.2</td>\n",
       "      <td>3.7</td>\n",
       "      <td>4.9</td>\n",
       "    </tr>\n",
       "  </tbody>\n",
       "</table>\n",
       "<p>5 rows × 181 columns</p>\n",
       "</div>"
      ],
      "text/plain": [
       "   borocd  cd_short_title   IPV_DIR  FAM_DIR  FAM_Fel_Assault   \\\n",
       "0     101  Manhattan CD 1  0.034338      121                 2   \n",
       "1     102  Manhattan CD 2  0.000000      159                 4   \n",
       "2     103  Manhattan CD 3  0.332372     1497                51   \n",
       "3     104  Manhattan CD 4  0.216252      568                 7   \n",
       "4     105  Manhattan CD 5  0.087287      251                 9   \n",
       "\n",
       "   DV_Fel_Assault   FAM_Rape   DV_Rape   lots_parking   acres  \\\n",
       "0               18          0         0            23   976.3   \n",
       "1               19          0         0            52   865.9   \n",
       "2              123          3        18            57  1076.9   \n",
       "3               58          2        10            77  1131.6   \n",
       "4               38          1         5            39  1005.4   \n",
       "\n",
       "         ...                son_issue_1  \\\n",
       "0        ...                 Resiliency   \n",
       "1        ...         Affordable housing   \n",
       "2        ...         Affordable housing   \n",
       "3        ...         Affordable housing   \n",
       "4        ...         Affordable housing   \n",
       "\n",
       "                                         son_issue_2  \\\n",
       "0                                            Traffic   \n",
       "1                                              Parks   \n",
       "2                                    Senior services   \n",
       "3     Neighborhood preservation (development trends)   \n",
       "4  Social services (including services for the ho...   \n",
       "\n",
       "                 son_issue_3  total_lot_area  under18_rate  under18_rate_boro  \\\n",
       "0                      Other        36115322          12.8               14.5   \n",
       "1                    Schools        25696432          12.8               14.5   \n",
       "2                      Other        33692052          11.7               14.5   \n",
       "3                    Traffic        38177268           8.2               14.5   \n",
       "4  Transit (buses & subways)        28192622           8.2               14.5   \n",
       "\n",
       "   under18_rate_nyc  unemployment_boro  unemployment_cd  unemployment_nyc  \n",
       "0                21                4.2              2.8               4.9  \n",
       "1                21                4.2              2.8               4.9  \n",
       "2                21                4.2              4.1               4.9  \n",
       "3                21                4.2              3.7               4.9  \n",
       "4                21                4.2              3.7               4.9  \n",
       "\n",
       "[5 rows x 181 columns]"
      ]
     },
     "execution_count": 12,
     "metadata": {},
     "output_type": "execute_result"
    }
   ],
   "source": [
    "scaler = MinMaxScaler()\n",
    "df[['fp_100_mhhi', 'IPV_DIR']] = scaler.fit_transform(df[['fp_100_mhhi', 'IPV_DIR']])\n",
    "\n",
    "df.head()"
   ]
  },
  {
   "cell_type": "code",
   "execution_count": 13,
   "metadata": {},
   "outputs": [
    {
     "data": {
      "application/vnd.plotly.v1+json": {
       "config": {
        "plotlyServerURL": "https://plot.ly"
       },
       "data": [
        {
         "name": "Income",
         "type": "bar",
         "x": [
          "Manhattan CD 1",
          "Manhattan CD 2",
          "Manhattan CD 3",
          "Manhattan CD 4",
          "Manhattan CD 5",
          "Manhattan CD 6",
          "Manhattan CD 7",
          "Manhattan CD 8",
          "Manhattan CD 9",
          "Manhattan CD 10",
          "Manhattan CD 11",
          "Manhattan CD 12",
          "Bronx CD 1",
          "Bronx CD 2",
          "Bronx CD 3",
          "Bronx CD 4",
          "Bronx CD 5",
          "Bronx CD 6",
          "Bronx CD 7",
          "Bronx CD 8",
          "Bronx CD 9",
          "Bronx CD 10",
          "Bronx CD 11",
          "Bronx CD 12",
          "Brooklyn CD 1",
          "Brooklyn CD 2",
          "Brooklyn CD 3",
          "Brooklyn CD 4",
          "Brooklyn CD 5",
          "Brooklyn CD 6",
          "Brooklyn CD 7",
          "Brooklyn CD 8",
          "Brooklyn CD 9",
          "Brooklyn CD 10",
          "Brooklyn CD 11",
          "Brooklyn CD 12",
          "Brooklyn CD 13",
          "Brooklyn CD 14",
          "Brooklyn CD 15",
          "Brooklyn CD 16",
          "Brooklyn CD 17",
          "Brooklyn CD 18",
          "Queens CD 1",
          "Queens CD 2",
          "Queens CD 3",
          "Queens CD 4",
          "Queens CD 5",
          "Queens CD 6",
          "Queens CD 7",
          "Queens CD 8",
          "Queens CD 9",
          "Queens CD 10",
          "Queens CD 11",
          "Queens CD 12",
          "Queens CD 13",
          "Queens CD 14",
          "Staten Island CD 1",
          "Staten Island CD 2",
          "Staten Island CD 3"
         ],
         "y": [
          1,
          1,
          0.02830188679245285,
          0.8490566037735849,
          0.3027643703378675,
          0.7264150943396227,
          0.679245283018868,
          0.5377358490566039,
          0.16037735849056609,
          0.09433962264150944,
          0.06603773584905662,
          0.06603773584905662,
          0.01886792452830191,
          0.01886792452830191,
          0.1509433962264151,
          0.0849056603773585,
          0.009433962264150969,
          0.1509433962264151,
          0.3027643703378675,
          0.30188679245283023,
          0.19811320754716985,
          0.2547169811320755,
          0.2735849056603774,
          0.1320754716981132,
          0.7358490566037736,
          0.9811320754716982,
          0.3027643703378675,
          0.3027643703378675,
          0.047169811320754734,
          0.2075471698113208,
          0.09433962264150944,
          0.3027643703378675,
          0.3027643703378675,
          0.3867924528301887,
          0.1886792452830189,
          0.3027643703378675,
          0,
          0.3027643703378675,
          0.22641509433962267,
          0.3027643703378675,
          0.3027643703378675,
          0.19811320754716985,
          0.339622641509434,
          0.8113207547169812,
          0.3027643703378675,
          0.3027643703378675,
          0.3027643703378675,
          0.3027643703378675,
          0.3679245283018868,
          0.3027643703378675,
          0.3027643703378675,
          0.21698113207547173,
          0.34905660377358494,
          0.10377358490566038,
          0.23584905660377362,
          0.1320754716981132,
          0.11320754716981132,
          0.2075471698113208,
          0.2735849056603774
         ]
        },
        {
         "name": "IVP",
         "type": "bar",
         "x": [
          "Manhattan CD 1",
          "Manhattan CD 2",
          "Manhattan CD 3",
          "Manhattan CD 4",
          "Manhattan CD 5",
          "Manhattan CD 6",
          "Manhattan CD 7",
          "Manhattan CD 8",
          "Manhattan CD 9",
          "Manhattan CD 10",
          "Manhattan CD 11",
          "Manhattan CD 12",
          "Bronx CD 1",
          "Bronx CD 2",
          "Bronx CD 3",
          "Bronx CD 4",
          "Bronx CD 5",
          "Bronx CD 6",
          "Bronx CD 7",
          "Bronx CD 8",
          "Bronx CD 9",
          "Bronx CD 10",
          "Bronx CD 11",
          "Bronx CD 12",
          "Brooklyn CD 1",
          "Brooklyn CD 2",
          "Brooklyn CD 3",
          "Brooklyn CD 4",
          "Brooklyn CD 5",
          "Brooklyn CD 6",
          "Brooklyn CD 7",
          "Brooklyn CD 8",
          "Brooklyn CD 9",
          "Brooklyn CD 10",
          "Brooklyn CD 11",
          "Brooklyn CD 12",
          "Brooklyn CD 13",
          "Brooklyn CD 14",
          "Brooklyn CD 15",
          "Brooklyn CD 16",
          "Brooklyn CD 17",
          "Brooklyn CD 18",
          "Queens CD 1",
          "Queens CD 2",
          "Queens CD 3",
          "Queens CD 4",
          "Queens CD 5",
          "Queens CD 6",
          "Queens CD 7",
          "Queens CD 8",
          "Queens CD 9",
          "Queens CD 10",
          "Queens CD 11",
          "Queens CD 12",
          "Queens CD 13",
          "Queens CD 14",
          "Staten Island CD 1",
          "Staten Island CD 2",
          "Staten Island CD 3"
         ],
         "y": [
          0.03433813892529489,
          0,
          0.33237221494102226,
          0.2162516382699869,
          0.08728702490170381,
          0.08414154652686764,
          0.22830930537352556,
          0.09698558322411535,
          0.26474442988204455,
          0.6657929226736565,
          0.672083879423329,
          0.4267365661861075,
          0.6833551769331585,
          0.23669724770642203,
          0.6534731323722149,
          0.6508519003931847,
          0.7226736566186107,
          0.44220183486238535,
          0.5386631716906947,
          0.12634338138925294,
          0.8380078636959372,
          0.31769331585845345,
          0.3247706422018349,
          0.7106159895150721,
          0.32634338138925295,
          0.2851900393184797,
          0.6652686762778506,
          0.272608125819135,
          1,
          0.11376146788990826,
          0.07837483617300131,
          0.39161205766710355,
          0.19947575360419395,
          0.044036697247706424,
          0.1840104849279161,
          0.06212319790301443,
          0.29750982961992134,
          0.28990825688073396,
          0.2125819134993447,
          0.6943643512450852,
          0.5745740498034075,
          0.5121887287024902,
          0.40026212319790305,
          0.14076015727391877,
          0.39895150720838796,
          0.29357798165137616,
          0.2432503276539974,
          0.037745740498034086,
          0.27916120576671033,
          0.19737876802096987,
          0.35255570117955437,
          0.3580602883355177,
          0.0020969855832241313,
          0.9900393184796854,
          0.4023591087811272,
          0.5237221494102229,
          0.9735255570117956,
          0.20262123197903015,
          0.1774574049803408
         ]
        }
       ],
       "layout": {
        "barmode": "group",
        "template": {
         "data": {
          "bar": [
           {
            "error_x": {
             "color": "#2a3f5f"
            },
            "error_y": {
             "color": "#2a3f5f"
            },
            "marker": {
             "line": {
              "color": "#E5ECF6",
              "width": 0.5
             }
            },
            "type": "bar"
           }
          ],
          "barpolar": [
           {
            "marker": {
             "line": {
              "color": "#E5ECF6",
              "width": 0.5
             }
            },
            "type": "barpolar"
           }
          ],
          "carpet": [
           {
            "aaxis": {
             "endlinecolor": "#2a3f5f",
             "gridcolor": "white",
             "linecolor": "white",
             "minorgridcolor": "white",
             "startlinecolor": "#2a3f5f"
            },
            "baxis": {
             "endlinecolor": "#2a3f5f",
             "gridcolor": "white",
             "linecolor": "white",
             "minorgridcolor": "white",
             "startlinecolor": "#2a3f5f"
            },
            "type": "carpet"
           }
          ],
          "choropleth": [
           {
            "colorbar": {
             "outlinewidth": 0,
             "ticks": ""
            },
            "type": "choropleth"
           }
          ],
          "contour": [
           {
            "colorbar": {
             "outlinewidth": 0,
             "ticks": ""
            },
            "colorscale": [
             [
              0,
              "#0d0887"
             ],
             [
              0.1111111111111111,
              "#46039f"
             ],
             [
              0.2222222222222222,
              "#7201a8"
             ],
             [
              0.3333333333333333,
              "#9c179e"
             ],
             [
              0.4444444444444444,
              "#bd3786"
             ],
             [
              0.5555555555555556,
              "#d8576b"
             ],
             [
              0.6666666666666666,
              "#ed7953"
             ],
             [
              0.7777777777777778,
              "#fb9f3a"
             ],
             [
              0.8888888888888888,
              "#fdca26"
             ],
             [
              1,
              "#f0f921"
             ]
            ],
            "type": "contour"
           }
          ],
          "contourcarpet": [
           {
            "colorbar": {
             "outlinewidth": 0,
             "ticks": ""
            },
            "type": "contourcarpet"
           }
          ],
          "heatmap": [
           {
            "colorbar": {
             "outlinewidth": 0,
             "ticks": ""
            },
            "colorscale": [
             [
              0,
              "#0d0887"
             ],
             [
              0.1111111111111111,
              "#46039f"
             ],
             [
              0.2222222222222222,
              "#7201a8"
             ],
             [
              0.3333333333333333,
              "#9c179e"
             ],
             [
              0.4444444444444444,
              "#bd3786"
             ],
             [
              0.5555555555555556,
              "#d8576b"
             ],
             [
              0.6666666666666666,
              "#ed7953"
             ],
             [
              0.7777777777777778,
              "#fb9f3a"
             ],
             [
              0.8888888888888888,
              "#fdca26"
             ],
             [
              1,
              "#f0f921"
             ]
            ],
            "type": "heatmap"
           }
          ],
          "heatmapgl": [
           {
            "colorbar": {
             "outlinewidth": 0,
             "ticks": ""
            },
            "colorscale": [
             [
              0,
              "#0d0887"
             ],
             [
              0.1111111111111111,
              "#46039f"
             ],
             [
              0.2222222222222222,
              "#7201a8"
             ],
             [
              0.3333333333333333,
              "#9c179e"
             ],
             [
              0.4444444444444444,
              "#bd3786"
             ],
             [
              0.5555555555555556,
              "#d8576b"
             ],
             [
              0.6666666666666666,
              "#ed7953"
             ],
             [
              0.7777777777777778,
              "#fb9f3a"
             ],
             [
              0.8888888888888888,
              "#fdca26"
             ],
             [
              1,
              "#f0f921"
             ]
            ],
            "type": "heatmapgl"
           }
          ],
          "histogram": [
           {
            "marker": {
             "colorbar": {
              "outlinewidth": 0,
              "ticks": ""
             }
            },
            "type": "histogram"
           }
          ],
          "histogram2d": [
           {
            "colorbar": {
             "outlinewidth": 0,
             "ticks": ""
            },
            "colorscale": [
             [
              0,
              "#0d0887"
             ],
             [
              0.1111111111111111,
              "#46039f"
             ],
             [
              0.2222222222222222,
              "#7201a8"
             ],
             [
              0.3333333333333333,
              "#9c179e"
             ],
             [
              0.4444444444444444,
              "#bd3786"
             ],
             [
              0.5555555555555556,
              "#d8576b"
             ],
             [
              0.6666666666666666,
              "#ed7953"
             ],
             [
              0.7777777777777778,
              "#fb9f3a"
             ],
             [
              0.8888888888888888,
              "#fdca26"
             ],
             [
              1,
              "#f0f921"
             ]
            ],
            "type": "histogram2d"
           }
          ],
          "histogram2dcontour": [
           {
            "colorbar": {
             "outlinewidth": 0,
             "ticks": ""
            },
            "colorscale": [
             [
              0,
              "#0d0887"
             ],
             [
              0.1111111111111111,
              "#46039f"
             ],
             [
              0.2222222222222222,
              "#7201a8"
             ],
             [
              0.3333333333333333,
              "#9c179e"
             ],
             [
              0.4444444444444444,
              "#bd3786"
             ],
             [
              0.5555555555555556,
              "#d8576b"
             ],
             [
              0.6666666666666666,
              "#ed7953"
             ],
             [
              0.7777777777777778,
              "#fb9f3a"
             ],
             [
              0.8888888888888888,
              "#fdca26"
             ],
             [
              1,
              "#f0f921"
             ]
            ],
            "type": "histogram2dcontour"
           }
          ],
          "mesh3d": [
           {
            "colorbar": {
             "outlinewidth": 0,
             "ticks": ""
            },
            "type": "mesh3d"
           }
          ],
          "parcoords": [
           {
            "line": {
             "colorbar": {
              "outlinewidth": 0,
              "ticks": ""
             }
            },
            "type": "parcoords"
           }
          ],
          "pie": [
           {
            "automargin": true,
            "type": "pie"
           }
          ],
          "scatter": [
           {
            "marker": {
             "colorbar": {
              "outlinewidth": 0,
              "ticks": ""
             }
            },
            "type": "scatter"
           }
          ],
          "scatter3d": [
           {
            "line": {
             "colorbar": {
              "outlinewidth": 0,
              "ticks": ""
             }
            },
            "marker": {
             "colorbar": {
              "outlinewidth": 0,
              "ticks": ""
             }
            },
            "type": "scatter3d"
           }
          ],
          "scattercarpet": [
           {
            "marker": {
             "colorbar": {
              "outlinewidth": 0,
              "ticks": ""
             }
            },
            "type": "scattercarpet"
           }
          ],
          "scattergeo": [
           {
            "marker": {
             "colorbar": {
              "outlinewidth": 0,
              "ticks": ""
             }
            },
            "type": "scattergeo"
           }
          ],
          "scattergl": [
           {
            "marker": {
             "colorbar": {
              "outlinewidth": 0,
              "ticks": ""
             }
            },
            "type": "scattergl"
           }
          ],
          "scattermapbox": [
           {
            "marker": {
             "colorbar": {
              "outlinewidth": 0,
              "ticks": ""
             }
            },
            "type": "scattermapbox"
           }
          ],
          "scatterpolar": [
           {
            "marker": {
             "colorbar": {
              "outlinewidth": 0,
              "ticks": ""
             }
            },
            "type": "scatterpolar"
           }
          ],
          "scatterpolargl": [
           {
            "marker": {
             "colorbar": {
              "outlinewidth": 0,
              "ticks": ""
             }
            },
            "type": "scatterpolargl"
           }
          ],
          "scatterternary": [
           {
            "marker": {
             "colorbar": {
              "outlinewidth": 0,
              "ticks": ""
             }
            },
            "type": "scatterternary"
           }
          ],
          "surface": [
           {
            "colorbar": {
             "outlinewidth": 0,
             "ticks": ""
            },
            "colorscale": [
             [
              0,
              "#0d0887"
             ],
             [
              0.1111111111111111,
              "#46039f"
             ],
             [
              0.2222222222222222,
              "#7201a8"
             ],
             [
              0.3333333333333333,
              "#9c179e"
             ],
             [
              0.4444444444444444,
              "#bd3786"
             ],
             [
              0.5555555555555556,
              "#d8576b"
             ],
             [
              0.6666666666666666,
              "#ed7953"
             ],
             [
              0.7777777777777778,
              "#fb9f3a"
             ],
             [
              0.8888888888888888,
              "#fdca26"
             ],
             [
              1,
              "#f0f921"
             ]
            ],
            "type": "surface"
           }
          ],
          "table": [
           {
            "cells": {
             "fill": {
              "color": "#EBF0F8"
             },
             "line": {
              "color": "white"
             }
            },
            "header": {
             "fill": {
              "color": "#C8D4E3"
             },
             "line": {
              "color": "white"
             }
            },
            "type": "table"
           }
          ]
         },
         "layout": {
          "annotationdefaults": {
           "arrowcolor": "#2a3f5f",
           "arrowhead": 0,
           "arrowwidth": 1
          },
          "coloraxis": {
           "colorbar": {
            "outlinewidth": 0,
            "ticks": ""
           }
          },
          "colorscale": {
           "diverging": [
            [
             0,
             "#8e0152"
            ],
            [
             0.1,
             "#c51b7d"
            ],
            [
             0.2,
             "#de77ae"
            ],
            [
             0.3,
             "#f1b6da"
            ],
            [
             0.4,
             "#fde0ef"
            ],
            [
             0.5,
             "#f7f7f7"
            ],
            [
             0.6,
             "#e6f5d0"
            ],
            [
             0.7,
             "#b8e186"
            ],
            [
             0.8,
             "#7fbc41"
            ],
            [
             0.9,
             "#4d9221"
            ],
            [
             1,
             "#276419"
            ]
           ],
           "sequential": [
            [
             0,
             "#0d0887"
            ],
            [
             0.1111111111111111,
             "#46039f"
            ],
            [
             0.2222222222222222,
             "#7201a8"
            ],
            [
             0.3333333333333333,
             "#9c179e"
            ],
            [
             0.4444444444444444,
             "#bd3786"
            ],
            [
             0.5555555555555556,
             "#d8576b"
            ],
            [
             0.6666666666666666,
             "#ed7953"
            ],
            [
             0.7777777777777778,
             "#fb9f3a"
            ],
            [
             0.8888888888888888,
             "#fdca26"
            ],
            [
             1,
             "#f0f921"
            ]
           ],
           "sequentialminus": [
            [
             0,
             "#0d0887"
            ],
            [
             0.1111111111111111,
             "#46039f"
            ],
            [
             0.2222222222222222,
             "#7201a8"
            ],
            [
             0.3333333333333333,
             "#9c179e"
            ],
            [
             0.4444444444444444,
             "#bd3786"
            ],
            [
             0.5555555555555556,
             "#d8576b"
            ],
            [
             0.6666666666666666,
             "#ed7953"
            ],
            [
             0.7777777777777778,
             "#fb9f3a"
            ],
            [
             0.8888888888888888,
             "#fdca26"
            ],
            [
             1,
             "#f0f921"
            ]
           ]
          },
          "colorway": [
           "#636efa",
           "#EF553B",
           "#00cc96",
           "#ab63fa",
           "#FFA15A",
           "#19d3f3",
           "#FF6692",
           "#B6E880",
           "#FF97FF",
           "#FECB52"
          ],
          "font": {
           "color": "#2a3f5f"
          },
          "geo": {
           "bgcolor": "white",
           "lakecolor": "white",
           "landcolor": "#E5ECF6",
           "showlakes": true,
           "showland": true,
           "subunitcolor": "white"
          },
          "hoverlabel": {
           "align": "left"
          },
          "hovermode": "closest",
          "mapbox": {
           "style": "light"
          },
          "paper_bgcolor": "white",
          "plot_bgcolor": "#E5ECF6",
          "polar": {
           "angularaxis": {
            "gridcolor": "white",
            "linecolor": "white",
            "ticks": ""
           },
           "bgcolor": "#E5ECF6",
           "radialaxis": {
            "gridcolor": "white",
            "linecolor": "white",
            "ticks": ""
           }
          },
          "scene": {
           "xaxis": {
            "backgroundcolor": "#E5ECF6",
            "gridcolor": "white",
            "gridwidth": 2,
            "linecolor": "white",
            "showbackground": true,
            "ticks": "",
            "zerolinecolor": "white"
           },
           "yaxis": {
            "backgroundcolor": "#E5ECF6",
            "gridcolor": "white",
            "gridwidth": 2,
            "linecolor": "white",
            "showbackground": true,
            "ticks": "",
            "zerolinecolor": "white"
           },
           "zaxis": {
            "backgroundcolor": "#E5ECF6",
            "gridcolor": "white",
            "gridwidth": 2,
            "linecolor": "white",
            "showbackground": true,
            "ticks": "",
            "zerolinecolor": "white"
           }
          },
          "shapedefaults": {
           "line": {
            "color": "#2a3f5f"
           }
          },
          "ternary": {
           "aaxis": {
            "gridcolor": "white",
            "linecolor": "white",
            "ticks": ""
           },
           "baxis": {
            "gridcolor": "white",
            "linecolor": "white",
            "ticks": ""
           },
           "bgcolor": "#E5ECF6",
           "caxis": {
            "gridcolor": "white",
            "linecolor": "white",
            "ticks": ""
           }
          },
          "title": {
           "x": 0.05
          },
          "xaxis": {
           "automargin": true,
           "gridcolor": "white",
           "linecolor": "white",
           "ticks": "",
           "title": {
            "standoff": 15
           },
           "zerolinecolor": "white",
           "zerolinewidth": 2
          },
          "yaxis": {
           "automargin": true,
           "gridcolor": "white",
           "linecolor": "white",
           "ticks": "",
           "title": {
            "standoff": 15
           },
           "zerolinecolor": "white",
           "zerolinewidth": 2
          }
         }
        }
       }
      },
      "text/html": [
       "<div>\n",
       "        \n",
       "        \n",
       "            <div id=\"fdd030eb-990a-4f97-b00a-cc3f65d0d775\" class=\"plotly-graph-div\" style=\"height:525px; width:100%;\"></div>\n",
       "            <script type=\"text/javascript\">\n",
       "                require([\"plotly\"], function(Plotly) {\n",
       "                    window.PLOTLYENV=window.PLOTLYENV || {};\n",
       "                    \n",
       "                if (document.getElementById(\"fdd030eb-990a-4f97-b00a-cc3f65d0d775\")) {\n",
       "                    Plotly.newPlot(\n",
       "                        'fdd030eb-990a-4f97-b00a-cc3f65d0d775',\n",
       "                        [{\"name\": \"Income\", \"type\": \"bar\", \"x\": [\"Manhattan CD 1\", \"Manhattan CD 2\", \"Manhattan CD 3\", \"Manhattan CD 4\", \"Manhattan CD 5\", \"Manhattan CD 6\", \"Manhattan CD 7\", \"Manhattan CD 8\", \"Manhattan CD 9\", \"Manhattan CD 10\", \"Manhattan CD 11\", \"Manhattan CD 12\", \"Bronx CD 1\", \"Bronx CD 2\", \"Bronx CD 3\", \"Bronx CD 4\", \"Bronx CD 5\", \"Bronx CD 6\", \"Bronx CD 7\", \"Bronx CD 8\", \"Bronx CD 9\", \"Bronx CD 10\", \"Bronx CD 11\", \"Bronx CD 12\", \"Brooklyn CD 1\", \"Brooklyn CD 2\", \"Brooklyn CD 3\", \"Brooklyn CD 4\", \"Brooklyn CD 5\", \"Brooklyn CD 6\", \"Brooklyn CD 7\", \"Brooklyn CD 8\", \"Brooklyn CD 9\", \"Brooklyn CD 10\", \"Brooklyn CD 11\", \"Brooklyn CD 12\", \"Brooklyn CD 13\", \"Brooklyn CD 14\", \"Brooklyn CD 15\", \"Brooklyn CD 16\", \"Brooklyn CD 17\", \"Brooklyn CD 18\", \"Queens CD 1\", \"Queens CD 2\", \"Queens CD 3\", \"Queens CD 4\", \"Queens CD 5\", \"Queens CD 6\", \"Queens CD 7\", \"Queens CD 8\", \"Queens CD 9\", \"Queens CD 10\", \"Queens CD 11\", \"Queens CD 12\", \"Queens CD 13\", \"Queens CD 14\", \"Staten Island CD 1\", \"Staten Island CD 2\", \"Staten Island CD 3\"], \"y\": [1.0, 1.0, 0.02830188679245285, 0.8490566037735849, 0.3027643703378675, 0.7264150943396227, 0.679245283018868, 0.5377358490566039, 0.16037735849056609, 0.09433962264150944, 0.06603773584905662, 0.06603773584905662, 0.01886792452830191, 0.01886792452830191, 0.1509433962264151, 0.0849056603773585, 0.009433962264150969, 0.1509433962264151, 0.3027643703378675, 0.30188679245283023, 0.19811320754716985, 0.2547169811320755, 0.2735849056603774, 0.1320754716981132, 0.7358490566037736, 0.9811320754716982, 0.3027643703378675, 0.3027643703378675, 0.047169811320754734, 0.2075471698113208, 0.09433962264150944, 0.3027643703378675, 0.3027643703378675, 0.3867924528301887, 0.1886792452830189, 0.3027643703378675, 0.0, 0.3027643703378675, 0.22641509433962267, 0.3027643703378675, 0.3027643703378675, 0.19811320754716985, 0.339622641509434, 0.8113207547169812, 0.3027643703378675, 0.3027643703378675, 0.3027643703378675, 0.3027643703378675, 0.3679245283018868, 0.3027643703378675, 0.3027643703378675, 0.21698113207547173, 0.34905660377358494, 0.10377358490566038, 0.23584905660377362, 0.1320754716981132, 0.11320754716981132, 0.2075471698113208, 0.2735849056603774]}, {\"name\": \"IVP\", \"type\": \"bar\", \"x\": [\"Manhattan CD 1\", \"Manhattan CD 2\", \"Manhattan CD 3\", \"Manhattan CD 4\", \"Manhattan CD 5\", \"Manhattan CD 6\", \"Manhattan CD 7\", \"Manhattan CD 8\", \"Manhattan CD 9\", \"Manhattan CD 10\", \"Manhattan CD 11\", \"Manhattan CD 12\", \"Bronx CD 1\", \"Bronx CD 2\", \"Bronx CD 3\", \"Bronx CD 4\", \"Bronx CD 5\", \"Bronx CD 6\", \"Bronx CD 7\", \"Bronx CD 8\", \"Bronx CD 9\", \"Bronx CD 10\", \"Bronx CD 11\", \"Bronx CD 12\", \"Brooklyn CD 1\", \"Brooklyn CD 2\", \"Brooklyn CD 3\", \"Brooklyn CD 4\", \"Brooklyn CD 5\", \"Brooklyn CD 6\", \"Brooklyn CD 7\", \"Brooklyn CD 8\", \"Brooklyn CD 9\", \"Brooklyn CD 10\", \"Brooklyn CD 11\", \"Brooklyn CD 12\", \"Brooklyn CD 13\", \"Brooklyn CD 14\", \"Brooklyn CD 15\", \"Brooklyn CD 16\", \"Brooklyn CD 17\", \"Brooklyn CD 18\", \"Queens CD 1\", \"Queens CD 2\", \"Queens CD 3\", \"Queens CD 4\", \"Queens CD 5\", \"Queens CD 6\", \"Queens CD 7\", \"Queens CD 8\", \"Queens CD 9\", \"Queens CD 10\", \"Queens CD 11\", \"Queens CD 12\", \"Queens CD 13\", \"Queens CD 14\", \"Staten Island CD 1\", \"Staten Island CD 2\", \"Staten Island CD 3\"], \"y\": [0.03433813892529489, 0.0, 0.33237221494102226, 0.2162516382699869, 0.08728702490170381, 0.08414154652686764, 0.22830930537352556, 0.09698558322411535, 0.26474442988204455, 0.6657929226736565, 0.672083879423329, 0.4267365661861075, 0.6833551769331585, 0.23669724770642203, 0.6534731323722149, 0.6508519003931847, 0.7226736566186107, 0.44220183486238535, 0.5386631716906947, 0.12634338138925294, 0.8380078636959372, 0.31769331585845345, 0.3247706422018349, 0.7106159895150721, 0.32634338138925295, 0.2851900393184797, 0.6652686762778506, 0.272608125819135, 1.0, 0.11376146788990826, 0.07837483617300131, 0.39161205766710355, 0.19947575360419395, 0.044036697247706424, 0.1840104849279161, 0.06212319790301443, 0.29750982961992134, 0.28990825688073396, 0.2125819134993447, 0.6943643512450852, 0.5745740498034075, 0.5121887287024902, 0.40026212319790305, 0.14076015727391877, 0.39895150720838796, 0.29357798165137616, 0.2432503276539974, 0.037745740498034086, 0.27916120576671033, 0.19737876802096987, 0.35255570117955437, 0.3580602883355177, 0.0020969855832241313, 0.9900393184796854, 0.4023591087811272, 0.5237221494102229, 0.9735255570117956, 0.20262123197903015, 0.1774574049803408]}],\n",
       "                        {\"barmode\": \"group\", \"template\": {\"data\": {\"bar\": [{\"error_x\": {\"color\": \"#2a3f5f\"}, \"error_y\": {\"color\": \"#2a3f5f\"}, \"marker\": {\"line\": {\"color\": \"#E5ECF6\", \"width\": 0.5}}, \"type\": \"bar\"}], \"barpolar\": [{\"marker\": {\"line\": {\"color\": \"#E5ECF6\", \"width\": 0.5}}, \"type\": \"barpolar\"}], \"carpet\": [{\"aaxis\": {\"endlinecolor\": \"#2a3f5f\", \"gridcolor\": \"white\", \"linecolor\": \"white\", \"minorgridcolor\": \"white\", \"startlinecolor\": \"#2a3f5f\"}, \"baxis\": {\"endlinecolor\": \"#2a3f5f\", \"gridcolor\": \"white\", \"linecolor\": \"white\", \"minorgridcolor\": \"white\", \"startlinecolor\": \"#2a3f5f\"}, \"type\": \"carpet\"}], \"choropleth\": [{\"colorbar\": {\"outlinewidth\": 0, \"ticks\": \"\"}, \"type\": \"choropleth\"}], \"contour\": [{\"colorbar\": {\"outlinewidth\": 0, \"ticks\": \"\"}, \"colorscale\": [[0.0, \"#0d0887\"], [0.1111111111111111, \"#46039f\"], [0.2222222222222222, \"#7201a8\"], [0.3333333333333333, \"#9c179e\"], [0.4444444444444444, \"#bd3786\"], [0.5555555555555556, \"#d8576b\"], [0.6666666666666666, \"#ed7953\"], [0.7777777777777778, \"#fb9f3a\"], [0.8888888888888888, \"#fdca26\"], [1.0, \"#f0f921\"]], \"type\": \"contour\"}], \"contourcarpet\": [{\"colorbar\": {\"outlinewidth\": 0, \"ticks\": \"\"}, \"type\": \"contourcarpet\"}], \"heatmap\": [{\"colorbar\": {\"outlinewidth\": 0, \"ticks\": \"\"}, \"colorscale\": [[0.0, \"#0d0887\"], [0.1111111111111111, \"#46039f\"], [0.2222222222222222, \"#7201a8\"], [0.3333333333333333, \"#9c179e\"], [0.4444444444444444, \"#bd3786\"], [0.5555555555555556, \"#d8576b\"], [0.6666666666666666, \"#ed7953\"], [0.7777777777777778, \"#fb9f3a\"], [0.8888888888888888, \"#fdca26\"], [1.0, \"#f0f921\"]], \"type\": \"heatmap\"}], \"heatmapgl\": [{\"colorbar\": {\"outlinewidth\": 0, \"ticks\": \"\"}, \"colorscale\": [[0.0, \"#0d0887\"], [0.1111111111111111, \"#46039f\"], [0.2222222222222222, \"#7201a8\"], [0.3333333333333333, \"#9c179e\"], [0.4444444444444444, \"#bd3786\"], [0.5555555555555556, \"#d8576b\"], [0.6666666666666666, \"#ed7953\"], [0.7777777777777778, \"#fb9f3a\"], [0.8888888888888888, \"#fdca26\"], [1.0, \"#f0f921\"]], \"type\": \"heatmapgl\"}], \"histogram\": [{\"marker\": {\"colorbar\": {\"outlinewidth\": 0, \"ticks\": \"\"}}, \"type\": \"histogram\"}], \"histogram2d\": [{\"colorbar\": {\"outlinewidth\": 0, \"ticks\": \"\"}, \"colorscale\": [[0.0, \"#0d0887\"], [0.1111111111111111, \"#46039f\"], [0.2222222222222222, \"#7201a8\"], [0.3333333333333333, \"#9c179e\"], [0.4444444444444444, \"#bd3786\"], [0.5555555555555556, \"#d8576b\"], [0.6666666666666666, \"#ed7953\"], [0.7777777777777778, \"#fb9f3a\"], [0.8888888888888888, \"#fdca26\"], [1.0, \"#f0f921\"]], \"type\": \"histogram2d\"}], \"histogram2dcontour\": [{\"colorbar\": {\"outlinewidth\": 0, \"ticks\": \"\"}, \"colorscale\": [[0.0, \"#0d0887\"], [0.1111111111111111, \"#46039f\"], [0.2222222222222222, \"#7201a8\"], [0.3333333333333333, \"#9c179e\"], [0.4444444444444444, \"#bd3786\"], [0.5555555555555556, \"#d8576b\"], [0.6666666666666666, \"#ed7953\"], [0.7777777777777778, \"#fb9f3a\"], [0.8888888888888888, \"#fdca26\"], [1.0, \"#f0f921\"]], \"type\": \"histogram2dcontour\"}], \"mesh3d\": [{\"colorbar\": {\"outlinewidth\": 0, \"ticks\": \"\"}, \"type\": \"mesh3d\"}], \"parcoords\": [{\"line\": {\"colorbar\": {\"outlinewidth\": 0, \"ticks\": \"\"}}, \"type\": \"parcoords\"}], \"pie\": [{\"automargin\": true, \"type\": \"pie\"}], \"scatter\": [{\"marker\": {\"colorbar\": {\"outlinewidth\": 0, \"ticks\": \"\"}}, \"type\": \"scatter\"}], \"scatter3d\": [{\"line\": {\"colorbar\": {\"outlinewidth\": 0, \"ticks\": \"\"}}, \"marker\": {\"colorbar\": {\"outlinewidth\": 0, \"ticks\": \"\"}}, \"type\": \"scatter3d\"}], \"scattercarpet\": [{\"marker\": {\"colorbar\": {\"outlinewidth\": 0, \"ticks\": \"\"}}, \"type\": \"scattercarpet\"}], \"scattergeo\": [{\"marker\": {\"colorbar\": {\"outlinewidth\": 0, \"ticks\": \"\"}}, \"type\": \"scattergeo\"}], \"scattergl\": [{\"marker\": {\"colorbar\": {\"outlinewidth\": 0, \"ticks\": \"\"}}, \"type\": \"scattergl\"}], \"scattermapbox\": [{\"marker\": {\"colorbar\": {\"outlinewidth\": 0, \"ticks\": \"\"}}, \"type\": \"scattermapbox\"}], \"scatterpolar\": [{\"marker\": {\"colorbar\": {\"outlinewidth\": 0, \"ticks\": \"\"}}, \"type\": \"scatterpolar\"}], \"scatterpolargl\": [{\"marker\": {\"colorbar\": {\"outlinewidth\": 0, \"ticks\": \"\"}}, \"type\": \"scatterpolargl\"}], \"scatterternary\": [{\"marker\": {\"colorbar\": {\"outlinewidth\": 0, \"ticks\": \"\"}}, \"type\": \"scatterternary\"}], \"surface\": [{\"colorbar\": {\"outlinewidth\": 0, \"ticks\": \"\"}, \"colorscale\": [[0.0, \"#0d0887\"], [0.1111111111111111, \"#46039f\"], [0.2222222222222222, \"#7201a8\"], [0.3333333333333333, \"#9c179e\"], [0.4444444444444444, \"#bd3786\"], [0.5555555555555556, \"#d8576b\"], [0.6666666666666666, \"#ed7953\"], [0.7777777777777778, \"#fb9f3a\"], [0.8888888888888888, \"#fdca26\"], [1.0, \"#f0f921\"]], \"type\": \"surface\"}], \"table\": [{\"cells\": {\"fill\": {\"color\": \"#EBF0F8\"}, \"line\": {\"color\": \"white\"}}, \"header\": {\"fill\": {\"color\": \"#C8D4E3\"}, \"line\": {\"color\": \"white\"}}, \"type\": \"table\"}]}, \"layout\": {\"annotationdefaults\": {\"arrowcolor\": \"#2a3f5f\", \"arrowhead\": 0, \"arrowwidth\": 1}, \"coloraxis\": {\"colorbar\": {\"outlinewidth\": 0, \"ticks\": \"\"}}, \"colorscale\": {\"diverging\": [[0, \"#8e0152\"], [0.1, \"#c51b7d\"], [0.2, \"#de77ae\"], [0.3, \"#f1b6da\"], [0.4, \"#fde0ef\"], [0.5, \"#f7f7f7\"], [0.6, \"#e6f5d0\"], [0.7, \"#b8e186\"], [0.8, \"#7fbc41\"], [0.9, \"#4d9221\"], [1, \"#276419\"]], \"sequential\": [[0.0, \"#0d0887\"], [0.1111111111111111, \"#46039f\"], [0.2222222222222222, \"#7201a8\"], [0.3333333333333333, \"#9c179e\"], [0.4444444444444444, \"#bd3786\"], [0.5555555555555556, \"#d8576b\"], [0.6666666666666666, \"#ed7953\"], [0.7777777777777778, \"#fb9f3a\"], [0.8888888888888888, \"#fdca26\"], [1.0, \"#f0f921\"]], \"sequentialminus\": [[0.0, \"#0d0887\"], [0.1111111111111111, \"#46039f\"], [0.2222222222222222, \"#7201a8\"], [0.3333333333333333, \"#9c179e\"], [0.4444444444444444, \"#bd3786\"], [0.5555555555555556, \"#d8576b\"], [0.6666666666666666, \"#ed7953\"], [0.7777777777777778, \"#fb9f3a\"], [0.8888888888888888, \"#fdca26\"], [1.0, \"#f0f921\"]]}, \"colorway\": [\"#636efa\", \"#EF553B\", \"#00cc96\", \"#ab63fa\", \"#FFA15A\", \"#19d3f3\", \"#FF6692\", \"#B6E880\", \"#FF97FF\", \"#FECB52\"], \"font\": {\"color\": \"#2a3f5f\"}, \"geo\": {\"bgcolor\": \"white\", \"lakecolor\": \"white\", \"landcolor\": \"#E5ECF6\", \"showlakes\": true, \"showland\": true, \"subunitcolor\": \"white\"}, \"hoverlabel\": {\"align\": \"left\"}, \"hovermode\": \"closest\", \"mapbox\": {\"style\": \"light\"}, \"paper_bgcolor\": \"white\", \"plot_bgcolor\": \"#E5ECF6\", \"polar\": {\"angularaxis\": {\"gridcolor\": \"white\", \"linecolor\": \"white\", \"ticks\": \"\"}, \"bgcolor\": \"#E5ECF6\", \"radialaxis\": {\"gridcolor\": \"white\", \"linecolor\": \"white\", \"ticks\": \"\"}}, \"scene\": {\"xaxis\": {\"backgroundcolor\": \"#E5ECF6\", \"gridcolor\": \"white\", \"gridwidth\": 2, \"linecolor\": \"white\", \"showbackground\": true, \"ticks\": \"\", \"zerolinecolor\": \"white\"}, \"yaxis\": {\"backgroundcolor\": \"#E5ECF6\", \"gridcolor\": \"white\", \"gridwidth\": 2, \"linecolor\": \"white\", \"showbackground\": true, \"ticks\": \"\", \"zerolinecolor\": \"white\"}, \"zaxis\": {\"backgroundcolor\": \"#E5ECF6\", \"gridcolor\": \"white\", \"gridwidth\": 2, \"linecolor\": \"white\", \"showbackground\": true, \"ticks\": \"\", \"zerolinecolor\": \"white\"}}, \"shapedefaults\": {\"line\": {\"color\": \"#2a3f5f\"}}, \"ternary\": {\"aaxis\": {\"gridcolor\": \"white\", \"linecolor\": \"white\", \"ticks\": \"\"}, \"baxis\": {\"gridcolor\": \"white\", \"linecolor\": \"white\", \"ticks\": \"\"}, \"bgcolor\": \"#E5ECF6\", \"caxis\": {\"gridcolor\": \"white\", \"linecolor\": \"white\", \"ticks\": \"\"}}, \"title\": {\"x\": 0.05}, \"xaxis\": {\"automargin\": true, \"gridcolor\": \"white\", \"linecolor\": \"white\", \"ticks\": \"\", \"title\": {\"standoff\": 15}, \"zerolinecolor\": \"white\", \"zerolinewidth\": 2}, \"yaxis\": {\"automargin\": true, \"gridcolor\": \"white\", \"linecolor\": \"white\", \"ticks\": \"\", \"title\": {\"standoff\": 15}, \"zerolinecolor\": \"white\", \"zerolinewidth\": 2}}}},\n",
       "                        {\"responsive\": true}\n",
       "                    ).then(function(){\n",
       "                            \n",
       "var gd = document.getElementById('fdd030eb-990a-4f97-b00a-cc3f65d0d775');\n",
       "var x = new MutationObserver(function (mutations, observer) {{\n",
       "        var display = window.getComputedStyle(gd).display;\n",
       "        if (!display || display === 'none') {{\n",
       "            console.log([gd, 'removed!']);\n",
       "            Plotly.purge(gd);\n",
       "            observer.disconnect();\n",
       "        }}\n",
       "}});\n",
       "\n",
       "// Listen for the removal of the full notebook cells\n",
       "var notebookContainer = gd.closest('#notebook-container');\n",
       "if (notebookContainer) {{\n",
       "    x.observe(notebookContainer, {childList: true});\n",
       "}}\n",
       "\n",
       "// Listen for the clearing of the current output cell\n",
       "var outputEl = gd.closest('.output');\n",
       "if (outputEl) {{\n",
       "    x.observe(outputEl, {childList: true});\n",
       "}}\n",
       "\n",
       "                        })\n",
       "                };\n",
       "                });\n",
       "            </script>\n",
       "        </div>"
      ]
     },
     "metadata": {},
     "output_type": "display_data"
    }
   ],
   "source": [
    "fig = go.Figure(data=[go.Bar(name='Income', x = df['cd_short_title'], y=df['fp_100_mhhi']),\n",
    "                      go.Bar(name='IVP', x = df['cd_short_title'], y = df['IPV_DIR'])\n",
    "                      \n",
    "                     ])\n",
    "fig.update_layout(barmode='group')\n",
    "fig.show()"
   ]
  },
  {
   "cell_type": "code",
   "execution_count": 18,
   "metadata": {},
   "outputs": [
    {
     "data": {
      "text/plain": [
       "(59, 181)"
      ]
     },
     "execution_count": 18,
     "metadata": {},
     "output_type": "execute_result"
    }
   ],
   "source": [
    "df = pd.read_csv('Expanded_Table.csv')\n",
    "df['fp_100_mhhi'].dropna(inplace=True)\n",
    "\n",
    "df.shape"
   ]
  },
  {
   "cell_type": "code",
   "execution_count": null,
   "metadata": {},
   "outputs": [],
   "source": []
  },
  {
   "cell_type": "code",
   "execution_count": 15,
   "metadata": {},
   "outputs": [
    {
     "data": {
      "application/vnd.plotly.v1+json": {
       "config": {
        "plotlyServerURL": "https://plot.ly"
       },
       "data": [
        {
         "name": "Income",
         "type": "bar",
         "x": [
          "Manhattan CD 1",
          "Manhattan CD 2",
          "Manhattan CD 3",
          "Manhattan CD 4",
          "Manhattan CD 5",
          "Manhattan CD 6",
          "Manhattan CD 7",
          "Manhattan CD 8",
          "Manhattan CD 9",
          "Manhattan CD 10",
          "Manhattan CD 11",
          "Manhattan CD 12",
          "Bronx CD 1",
          "Bronx CD 2",
          "Bronx CD 3",
          "Bronx CD 4",
          "Bronx CD 5",
          "Bronx CD 6",
          "Bronx CD 7",
          "Bronx CD 8",
          "Bronx CD 9",
          "Bronx CD 10",
          "Bronx CD 11",
          "Bronx CD 12",
          "Brooklyn CD 1",
          "Brooklyn CD 2",
          "Brooklyn CD 3",
          "Brooklyn CD 4",
          "Brooklyn CD 5",
          "Brooklyn CD 6",
          "Brooklyn CD 7",
          "Brooklyn CD 8",
          "Brooklyn CD 9",
          "Brooklyn CD 10",
          "Brooklyn CD 11",
          "Brooklyn CD 12",
          "Brooklyn CD 13",
          "Brooklyn CD 14",
          "Brooklyn CD 15",
          "Brooklyn CD 16",
          "Brooklyn CD 17",
          "Brooklyn CD 18",
          "Queens CD 1",
          "Queens CD 2",
          "Queens CD 3",
          "Queens CD 4",
          "Queens CD 5",
          "Queens CD 6",
          "Queens CD 7",
          "Queens CD 8",
          "Queens CD 9",
          "Queens CD 10",
          "Queens CD 11",
          "Queens CD 12",
          "Queens CD 13",
          "Queens CD 14",
          "Staten Island CD 1",
          "Staten Island CD 2",
          "Staten Island CD 3"
         ],
         "y": [
          121000,
          121000,
          18000,
          105000,
          92000,
          87000,
          72000,
          32000,
          25000,
          22000,
          22000,
          17000,
          17000,
          31000,
          24000,
          16000,
          31000,
          47000,
          36000,
          42000,
          44000,
          29000,
          93000,
          119000,
          20000,
          37000,
          25000,
          56000,
          35000,
          15000,
          39000,
          36000,
          51000,
          101000,
          54000,
          38000,
          52000,
          26000,
          40000,
          29000,
          27000,
          37000,
          44000
         ]
        },
        {
         "name": "IVP",
         "type": "bar",
         "x": [
          "Manhattan CD 1",
          "Manhattan CD 2",
          "Manhattan CD 3",
          "Manhattan CD 4",
          "Manhattan CD 5",
          "Manhattan CD 6",
          "Manhattan CD 7",
          "Manhattan CD 8",
          "Manhattan CD 9",
          "Manhattan CD 10",
          "Manhattan CD 11",
          "Manhattan CD 12",
          "Bronx CD 1",
          "Bronx CD 2",
          "Bronx CD 3",
          "Bronx CD 4",
          "Bronx CD 5",
          "Bronx CD 6",
          "Bronx CD 7",
          "Bronx CD 8",
          "Bronx CD 9",
          "Bronx CD 10",
          "Bronx CD 11",
          "Bronx CD 12",
          "Brooklyn CD 1",
          "Brooklyn CD 2",
          "Brooklyn CD 3",
          "Brooklyn CD 4",
          "Brooklyn CD 5",
          "Brooklyn CD 6",
          "Brooklyn CD 7",
          "Brooklyn CD 8",
          "Brooklyn CD 9",
          "Brooklyn CD 10",
          "Brooklyn CD 11",
          "Brooklyn CD 12",
          "Brooklyn CD 13",
          "Brooklyn CD 14",
          "Brooklyn CD 15",
          "Brooklyn CD 16",
          "Brooklyn CD 17",
          "Brooklyn CD 18",
          "Queens CD 1",
          "Queens CD 2",
          "Queens CD 3",
          "Queens CD 4",
          "Queens CD 5",
          "Queens CD 6",
          "Queens CD 7",
          "Queens CD 8",
          "Queens CD 9",
          "Queens CD 10",
          "Queens CD 11",
          "Queens CD 12",
          "Queens CD 13",
          "Queens CD 14",
          "Staten Island CD 1",
          "Staten Island CD 2",
          "Staten Island CD 3"
         ],
         "y": [
          623,
          492,
          1760,
          1317,
          825,
          813,
          1363,
          862,
          1502,
          3032,
          3056,
          2120,
          3099,
          1395,
          2985,
          2975,
          3249,
          2179,
          2547,
          974,
          3689,
          1704,
          1731,
          3203,
          1737,
          1580,
          3030,
          1532,
          4307,
          926,
          791,
          1986,
          1253,
          660,
          1194,
          729,
          1627,
          1598,
          1303,
          3141,
          2684,
          2446,
          2019,
          1029,
          2014,
          1612,
          1420,
          636,
          1557,
          1245,
          1837,
          1858,
          500,
          4269,
          2027,
          2490,
          4206,
          1265,
          1169
         ]
        }
       ],
       "layout": {
        "barmode": "group",
        "template": {
         "data": {
          "bar": [
           {
            "error_x": {
             "color": "#2a3f5f"
            },
            "error_y": {
             "color": "#2a3f5f"
            },
            "marker": {
             "line": {
              "color": "#E5ECF6",
              "width": 0.5
             }
            },
            "type": "bar"
           }
          ],
          "barpolar": [
           {
            "marker": {
             "line": {
              "color": "#E5ECF6",
              "width": 0.5
             }
            },
            "type": "barpolar"
           }
          ],
          "carpet": [
           {
            "aaxis": {
             "endlinecolor": "#2a3f5f",
             "gridcolor": "white",
             "linecolor": "white",
             "minorgridcolor": "white",
             "startlinecolor": "#2a3f5f"
            },
            "baxis": {
             "endlinecolor": "#2a3f5f",
             "gridcolor": "white",
             "linecolor": "white",
             "minorgridcolor": "white",
             "startlinecolor": "#2a3f5f"
            },
            "type": "carpet"
           }
          ],
          "choropleth": [
           {
            "colorbar": {
             "outlinewidth": 0,
             "ticks": ""
            },
            "type": "choropleth"
           }
          ],
          "contour": [
           {
            "colorbar": {
             "outlinewidth": 0,
             "ticks": ""
            },
            "colorscale": [
             [
              0,
              "#0d0887"
             ],
             [
              0.1111111111111111,
              "#46039f"
             ],
             [
              0.2222222222222222,
              "#7201a8"
             ],
             [
              0.3333333333333333,
              "#9c179e"
             ],
             [
              0.4444444444444444,
              "#bd3786"
             ],
             [
              0.5555555555555556,
              "#d8576b"
             ],
             [
              0.6666666666666666,
              "#ed7953"
             ],
             [
              0.7777777777777778,
              "#fb9f3a"
             ],
             [
              0.8888888888888888,
              "#fdca26"
             ],
             [
              1,
              "#f0f921"
             ]
            ],
            "type": "contour"
           }
          ],
          "contourcarpet": [
           {
            "colorbar": {
             "outlinewidth": 0,
             "ticks": ""
            },
            "type": "contourcarpet"
           }
          ],
          "heatmap": [
           {
            "colorbar": {
             "outlinewidth": 0,
             "ticks": ""
            },
            "colorscale": [
             [
              0,
              "#0d0887"
             ],
             [
              0.1111111111111111,
              "#46039f"
             ],
             [
              0.2222222222222222,
              "#7201a8"
             ],
             [
              0.3333333333333333,
              "#9c179e"
             ],
             [
              0.4444444444444444,
              "#bd3786"
             ],
             [
              0.5555555555555556,
              "#d8576b"
             ],
             [
              0.6666666666666666,
              "#ed7953"
             ],
             [
              0.7777777777777778,
              "#fb9f3a"
             ],
             [
              0.8888888888888888,
              "#fdca26"
             ],
             [
              1,
              "#f0f921"
             ]
            ],
            "type": "heatmap"
           }
          ],
          "heatmapgl": [
           {
            "colorbar": {
             "outlinewidth": 0,
             "ticks": ""
            },
            "colorscale": [
             [
              0,
              "#0d0887"
             ],
             [
              0.1111111111111111,
              "#46039f"
             ],
             [
              0.2222222222222222,
              "#7201a8"
             ],
             [
              0.3333333333333333,
              "#9c179e"
             ],
             [
              0.4444444444444444,
              "#bd3786"
             ],
             [
              0.5555555555555556,
              "#d8576b"
             ],
             [
              0.6666666666666666,
              "#ed7953"
             ],
             [
              0.7777777777777778,
              "#fb9f3a"
             ],
             [
              0.8888888888888888,
              "#fdca26"
             ],
             [
              1,
              "#f0f921"
             ]
            ],
            "type": "heatmapgl"
           }
          ],
          "histogram": [
           {
            "marker": {
             "colorbar": {
              "outlinewidth": 0,
              "ticks": ""
             }
            },
            "type": "histogram"
           }
          ],
          "histogram2d": [
           {
            "colorbar": {
             "outlinewidth": 0,
             "ticks": ""
            },
            "colorscale": [
             [
              0,
              "#0d0887"
             ],
             [
              0.1111111111111111,
              "#46039f"
             ],
             [
              0.2222222222222222,
              "#7201a8"
             ],
             [
              0.3333333333333333,
              "#9c179e"
             ],
             [
              0.4444444444444444,
              "#bd3786"
             ],
             [
              0.5555555555555556,
              "#d8576b"
             ],
             [
              0.6666666666666666,
              "#ed7953"
             ],
             [
              0.7777777777777778,
              "#fb9f3a"
             ],
             [
              0.8888888888888888,
              "#fdca26"
             ],
             [
              1,
              "#f0f921"
             ]
            ],
            "type": "histogram2d"
           }
          ],
          "histogram2dcontour": [
           {
            "colorbar": {
             "outlinewidth": 0,
             "ticks": ""
            },
            "colorscale": [
             [
              0,
              "#0d0887"
             ],
             [
              0.1111111111111111,
              "#46039f"
             ],
             [
              0.2222222222222222,
              "#7201a8"
             ],
             [
              0.3333333333333333,
              "#9c179e"
             ],
             [
              0.4444444444444444,
              "#bd3786"
             ],
             [
              0.5555555555555556,
              "#d8576b"
             ],
             [
              0.6666666666666666,
              "#ed7953"
             ],
             [
              0.7777777777777778,
              "#fb9f3a"
             ],
             [
              0.8888888888888888,
              "#fdca26"
             ],
             [
              1,
              "#f0f921"
             ]
            ],
            "type": "histogram2dcontour"
           }
          ],
          "mesh3d": [
           {
            "colorbar": {
             "outlinewidth": 0,
             "ticks": ""
            },
            "type": "mesh3d"
           }
          ],
          "parcoords": [
           {
            "line": {
             "colorbar": {
              "outlinewidth": 0,
              "ticks": ""
             }
            },
            "type": "parcoords"
           }
          ],
          "pie": [
           {
            "automargin": true,
            "type": "pie"
           }
          ],
          "scatter": [
           {
            "marker": {
             "colorbar": {
              "outlinewidth": 0,
              "ticks": ""
             }
            },
            "type": "scatter"
           }
          ],
          "scatter3d": [
           {
            "line": {
             "colorbar": {
              "outlinewidth": 0,
              "ticks": ""
             }
            },
            "marker": {
             "colorbar": {
              "outlinewidth": 0,
              "ticks": ""
             }
            },
            "type": "scatter3d"
           }
          ],
          "scattercarpet": [
           {
            "marker": {
             "colorbar": {
              "outlinewidth": 0,
              "ticks": ""
             }
            },
            "type": "scattercarpet"
           }
          ],
          "scattergeo": [
           {
            "marker": {
             "colorbar": {
              "outlinewidth": 0,
              "ticks": ""
             }
            },
            "type": "scattergeo"
           }
          ],
          "scattergl": [
           {
            "marker": {
             "colorbar": {
              "outlinewidth": 0,
              "ticks": ""
             }
            },
            "type": "scattergl"
           }
          ],
          "scattermapbox": [
           {
            "marker": {
             "colorbar": {
              "outlinewidth": 0,
              "ticks": ""
             }
            },
            "type": "scattermapbox"
           }
          ],
          "scatterpolar": [
           {
            "marker": {
             "colorbar": {
              "outlinewidth": 0,
              "ticks": ""
             }
            },
            "type": "scatterpolar"
           }
          ],
          "scatterpolargl": [
           {
            "marker": {
             "colorbar": {
              "outlinewidth": 0,
              "ticks": ""
             }
            },
            "type": "scatterpolargl"
           }
          ],
          "scatterternary": [
           {
            "marker": {
             "colorbar": {
              "outlinewidth": 0,
              "ticks": ""
             }
            },
            "type": "scatterternary"
           }
          ],
          "surface": [
           {
            "colorbar": {
             "outlinewidth": 0,
             "ticks": ""
            },
            "colorscale": [
             [
              0,
              "#0d0887"
             ],
             [
              0.1111111111111111,
              "#46039f"
             ],
             [
              0.2222222222222222,
              "#7201a8"
             ],
             [
              0.3333333333333333,
              "#9c179e"
             ],
             [
              0.4444444444444444,
              "#bd3786"
             ],
             [
              0.5555555555555556,
              "#d8576b"
             ],
             [
              0.6666666666666666,
              "#ed7953"
             ],
             [
              0.7777777777777778,
              "#fb9f3a"
             ],
             [
              0.8888888888888888,
              "#fdca26"
             ],
             [
              1,
              "#f0f921"
             ]
            ],
            "type": "surface"
           }
          ],
          "table": [
           {
            "cells": {
             "fill": {
              "color": "#EBF0F8"
             },
             "line": {
              "color": "white"
             }
            },
            "header": {
             "fill": {
              "color": "#C8D4E3"
             },
             "line": {
              "color": "white"
             }
            },
            "type": "table"
           }
          ]
         },
         "layout": {
          "annotationdefaults": {
           "arrowcolor": "#2a3f5f",
           "arrowhead": 0,
           "arrowwidth": 1
          },
          "coloraxis": {
           "colorbar": {
            "outlinewidth": 0,
            "ticks": ""
           }
          },
          "colorscale": {
           "diverging": [
            [
             0,
             "#8e0152"
            ],
            [
             0.1,
             "#c51b7d"
            ],
            [
             0.2,
             "#de77ae"
            ],
            [
             0.3,
             "#f1b6da"
            ],
            [
             0.4,
             "#fde0ef"
            ],
            [
             0.5,
             "#f7f7f7"
            ],
            [
             0.6,
             "#e6f5d0"
            ],
            [
             0.7,
             "#b8e186"
            ],
            [
             0.8,
             "#7fbc41"
            ],
            [
             0.9,
             "#4d9221"
            ],
            [
             1,
             "#276419"
            ]
           ],
           "sequential": [
            [
             0,
             "#0d0887"
            ],
            [
             0.1111111111111111,
             "#46039f"
            ],
            [
             0.2222222222222222,
             "#7201a8"
            ],
            [
             0.3333333333333333,
             "#9c179e"
            ],
            [
             0.4444444444444444,
             "#bd3786"
            ],
            [
             0.5555555555555556,
             "#d8576b"
            ],
            [
             0.6666666666666666,
             "#ed7953"
            ],
            [
             0.7777777777777778,
             "#fb9f3a"
            ],
            [
             0.8888888888888888,
             "#fdca26"
            ],
            [
             1,
             "#f0f921"
            ]
           ],
           "sequentialminus": [
            [
             0,
             "#0d0887"
            ],
            [
             0.1111111111111111,
             "#46039f"
            ],
            [
             0.2222222222222222,
             "#7201a8"
            ],
            [
             0.3333333333333333,
             "#9c179e"
            ],
            [
             0.4444444444444444,
             "#bd3786"
            ],
            [
             0.5555555555555556,
             "#d8576b"
            ],
            [
             0.6666666666666666,
             "#ed7953"
            ],
            [
             0.7777777777777778,
             "#fb9f3a"
            ],
            [
             0.8888888888888888,
             "#fdca26"
            ],
            [
             1,
             "#f0f921"
            ]
           ]
          },
          "colorway": [
           "#636efa",
           "#EF553B",
           "#00cc96",
           "#ab63fa",
           "#FFA15A",
           "#19d3f3",
           "#FF6692",
           "#B6E880",
           "#FF97FF",
           "#FECB52"
          ],
          "font": {
           "color": "#2a3f5f"
          },
          "geo": {
           "bgcolor": "white",
           "lakecolor": "white",
           "landcolor": "#E5ECF6",
           "showlakes": true,
           "showland": true,
           "subunitcolor": "white"
          },
          "hoverlabel": {
           "align": "left"
          },
          "hovermode": "closest",
          "mapbox": {
           "style": "light"
          },
          "paper_bgcolor": "white",
          "plot_bgcolor": "#E5ECF6",
          "polar": {
           "angularaxis": {
            "gridcolor": "white",
            "linecolor": "white",
            "ticks": ""
           },
           "bgcolor": "#E5ECF6",
           "radialaxis": {
            "gridcolor": "white",
            "linecolor": "white",
            "ticks": ""
           }
          },
          "scene": {
           "xaxis": {
            "backgroundcolor": "#E5ECF6",
            "gridcolor": "white",
            "gridwidth": 2,
            "linecolor": "white",
            "showbackground": true,
            "ticks": "",
            "zerolinecolor": "white"
           },
           "yaxis": {
            "backgroundcolor": "#E5ECF6",
            "gridcolor": "white",
            "gridwidth": 2,
            "linecolor": "white",
            "showbackground": true,
            "ticks": "",
            "zerolinecolor": "white"
           },
           "zaxis": {
            "backgroundcolor": "#E5ECF6",
            "gridcolor": "white",
            "gridwidth": 2,
            "linecolor": "white",
            "showbackground": true,
            "ticks": "",
            "zerolinecolor": "white"
           }
          },
          "shapedefaults": {
           "line": {
            "color": "#2a3f5f"
           }
          },
          "ternary": {
           "aaxis": {
            "gridcolor": "white",
            "linecolor": "white",
            "ticks": ""
           },
           "baxis": {
            "gridcolor": "white",
            "linecolor": "white",
            "ticks": ""
           },
           "bgcolor": "#E5ECF6",
           "caxis": {
            "gridcolor": "white",
            "linecolor": "white",
            "ticks": ""
           }
          },
          "title": {
           "x": 0.05
          },
          "xaxis": {
           "automargin": true,
           "gridcolor": "white",
           "linecolor": "white",
           "ticks": "",
           "title": {
            "standoff": 15
           },
           "zerolinecolor": "white",
           "zerolinewidth": 2
          },
          "yaxis": {
           "automargin": true,
           "gridcolor": "white",
           "linecolor": "white",
           "ticks": "",
           "title": {
            "standoff": 15
           },
           "zerolinecolor": "white",
           "zerolinewidth": 2
          }
         }
        }
       }
      },
      "text/html": [
       "<div>\n",
       "        \n",
       "        \n",
       "            <div id=\"88b43364-d61f-4398-abea-ab452b2e5050\" class=\"plotly-graph-div\" style=\"height:525px; width:100%;\"></div>\n",
       "            <script type=\"text/javascript\">\n",
       "                require([\"plotly\"], function(Plotly) {\n",
       "                    window.PLOTLYENV=window.PLOTLYENV || {};\n",
       "                    \n",
       "                if (document.getElementById(\"88b43364-d61f-4398-abea-ab452b2e5050\")) {\n",
       "                    Plotly.newPlot(\n",
       "                        '88b43364-d61f-4398-abea-ab452b2e5050',\n",
       "                        [{\"name\": \"Income\", \"type\": \"bar\", \"x\": [\"Manhattan CD 1\", \"Manhattan CD 2\", \"Manhattan CD 3\", \"Manhattan CD 4\", \"Manhattan CD 5\", \"Manhattan CD 6\", \"Manhattan CD 7\", \"Manhattan CD 8\", \"Manhattan CD 9\", \"Manhattan CD 10\", \"Manhattan CD 11\", \"Manhattan CD 12\", \"Bronx CD 1\", \"Bronx CD 2\", \"Bronx CD 3\", \"Bronx CD 4\", \"Bronx CD 5\", \"Bronx CD 6\", \"Bronx CD 7\", \"Bronx CD 8\", \"Bronx CD 9\", \"Bronx CD 10\", \"Bronx CD 11\", \"Bronx CD 12\", \"Brooklyn CD 1\", \"Brooklyn CD 2\", \"Brooklyn CD 3\", \"Brooklyn CD 4\", \"Brooklyn CD 5\", \"Brooklyn CD 6\", \"Brooklyn CD 7\", \"Brooklyn CD 8\", \"Brooklyn CD 9\", \"Brooklyn CD 10\", \"Brooklyn CD 11\", \"Brooklyn CD 12\", \"Brooklyn CD 13\", \"Brooklyn CD 14\", \"Brooklyn CD 15\", \"Brooklyn CD 16\", \"Brooklyn CD 17\", \"Brooklyn CD 18\", \"Queens CD 1\", \"Queens CD 2\", \"Queens CD 3\", \"Queens CD 4\", \"Queens CD 5\", \"Queens CD 6\", \"Queens CD 7\", \"Queens CD 8\", \"Queens CD 9\", \"Queens CD 10\", \"Queens CD 11\", \"Queens CD 12\", \"Queens CD 13\", \"Queens CD 14\", \"Staten Island CD 1\", \"Staten Island CD 2\", \"Staten Island CD 3\"], \"y\": [121000.0, 121000.0, 18000.0, 105000.0, 92000.0, 87000.0, 72000.0, 32000.0, 25000.0, 22000.0, 22000.0, 17000.0, 17000.0, 31000.0, 24000.0, 16000.0, 31000.0, 47000.0, 36000.0, 42000.0, 44000.0, 29000.0, 93000.0, 119000.0, 20000.0, 37000.0, 25000.0, 56000.0, 35000.0, 15000.0, 39000.0, 36000.0, 51000.0, 101000.0, 54000.0, 38000.0, 52000.0, 26000.0, 40000.0, 29000.0, 27000.0, 37000.0, 44000.0]}, {\"name\": \"IVP\", \"type\": \"bar\", \"x\": [\"Manhattan CD 1\", \"Manhattan CD 2\", \"Manhattan CD 3\", \"Manhattan CD 4\", \"Manhattan CD 5\", \"Manhattan CD 6\", \"Manhattan CD 7\", \"Manhattan CD 8\", \"Manhattan CD 9\", \"Manhattan CD 10\", \"Manhattan CD 11\", \"Manhattan CD 12\", \"Bronx CD 1\", \"Bronx CD 2\", \"Bronx CD 3\", \"Bronx CD 4\", \"Bronx CD 5\", \"Bronx CD 6\", \"Bronx CD 7\", \"Bronx CD 8\", \"Bronx CD 9\", \"Bronx CD 10\", \"Bronx CD 11\", \"Bronx CD 12\", \"Brooklyn CD 1\", \"Brooklyn CD 2\", \"Brooklyn CD 3\", \"Brooklyn CD 4\", \"Brooklyn CD 5\", \"Brooklyn CD 6\", \"Brooklyn CD 7\", \"Brooklyn CD 8\", \"Brooklyn CD 9\", \"Brooklyn CD 10\", \"Brooklyn CD 11\", \"Brooklyn CD 12\", \"Brooklyn CD 13\", \"Brooklyn CD 14\", \"Brooklyn CD 15\", \"Brooklyn CD 16\", \"Brooklyn CD 17\", \"Brooklyn CD 18\", \"Queens CD 1\", \"Queens CD 2\", \"Queens CD 3\", \"Queens CD 4\", \"Queens CD 5\", \"Queens CD 6\", \"Queens CD 7\", \"Queens CD 8\", \"Queens CD 9\", \"Queens CD 10\", \"Queens CD 11\", \"Queens CD 12\", \"Queens CD 13\", \"Queens CD 14\", \"Staten Island CD 1\", \"Staten Island CD 2\", \"Staten Island CD 3\"], \"y\": [623, 492, 1760, 1317, 825, 813, 1363, 862, 1502, 3032, 3056, 2120, 3099, 1395, 2985, 2975, 3249, 2179, 2547, 974, 3689, 1704, 1731, 3203, 1737, 1580, 3030, 1532, 4307, 926, 791, 1986, 1253, 660, 1194, 729, 1627, 1598, 1303, 3141, 2684, 2446, 2019, 1029, 2014, 1612, 1420, 636, 1557, 1245, 1837, 1858, 500, 4269, 2027, 2490, 4206, 1265, 1169]}],\n",
       "                        {\"barmode\": \"group\", \"template\": {\"data\": {\"bar\": [{\"error_x\": {\"color\": \"#2a3f5f\"}, \"error_y\": {\"color\": \"#2a3f5f\"}, \"marker\": {\"line\": {\"color\": \"#E5ECF6\", \"width\": 0.5}}, \"type\": \"bar\"}], \"barpolar\": [{\"marker\": {\"line\": {\"color\": \"#E5ECF6\", \"width\": 0.5}}, \"type\": \"barpolar\"}], \"carpet\": [{\"aaxis\": {\"endlinecolor\": \"#2a3f5f\", \"gridcolor\": \"white\", \"linecolor\": \"white\", \"minorgridcolor\": \"white\", \"startlinecolor\": \"#2a3f5f\"}, \"baxis\": {\"endlinecolor\": \"#2a3f5f\", \"gridcolor\": \"white\", \"linecolor\": \"white\", \"minorgridcolor\": \"white\", \"startlinecolor\": \"#2a3f5f\"}, \"type\": \"carpet\"}], \"choropleth\": [{\"colorbar\": {\"outlinewidth\": 0, \"ticks\": \"\"}, \"type\": \"choropleth\"}], \"contour\": [{\"colorbar\": {\"outlinewidth\": 0, \"ticks\": \"\"}, \"colorscale\": [[0.0, \"#0d0887\"], [0.1111111111111111, \"#46039f\"], [0.2222222222222222, \"#7201a8\"], [0.3333333333333333, \"#9c179e\"], [0.4444444444444444, \"#bd3786\"], [0.5555555555555556, \"#d8576b\"], [0.6666666666666666, \"#ed7953\"], [0.7777777777777778, \"#fb9f3a\"], [0.8888888888888888, \"#fdca26\"], [1.0, \"#f0f921\"]], \"type\": \"contour\"}], \"contourcarpet\": [{\"colorbar\": {\"outlinewidth\": 0, \"ticks\": \"\"}, \"type\": \"contourcarpet\"}], \"heatmap\": [{\"colorbar\": {\"outlinewidth\": 0, \"ticks\": \"\"}, \"colorscale\": [[0.0, \"#0d0887\"], [0.1111111111111111, \"#46039f\"], [0.2222222222222222, \"#7201a8\"], [0.3333333333333333, \"#9c179e\"], [0.4444444444444444, \"#bd3786\"], [0.5555555555555556, \"#d8576b\"], [0.6666666666666666, \"#ed7953\"], [0.7777777777777778, \"#fb9f3a\"], [0.8888888888888888, \"#fdca26\"], [1.0, \"#f0f921\"]], \"type\": \"heatmap\"}], \"heatmapgl\": [{\"colorbar\": {\"outlinewidth\": 0, \"ticks\": \"\"}, \"colorscale\": [[0.0, \"#0d0887\"], [0.1111111111111111, \"#46039f\"], [0.2222222222222222, \"#7201a8\"], [0.3333333333333333, \"#9c179e\"], [0.4444444444444444, \"#bd3786\"], [0.5555555555555556, \"#d8576b\"], [0.6666666666666666, \"#ed7953\"], [0.7777777777777778, \"#fb9f3a\"], [0.8888888888888888, \"#fdca26\"], [1.0, \"#f0f921\"]], \"type\": \"heatmapgl\"}], \"histogram\": [{\"marker\": {\"colorbar\": {\"outlinewidth\": 0, \"ticks\": \"\"}}, \"type\": \"histogram\"}], \"histogram2d\": [{\"colorbar\": {\"outlinewidth\": 0, \"ticks\": \"\"}, \"colorscale\": [[0.0, \"#0d0887\"], [0.1111111111111111, \"#46039f\"], [0.2222222222222222, \"#7201a8\"], [0.3333333333333333, \"#9c179e\"], [0.4444444444444444, \"#bd3786\"], [0.5555555555555556, \"#d8576b\"], [0.6666666666666666, \"#ed7953\"], [0.7777777777777778, \"#fb9f3a\"], [0.8888888888888888, \"#fdca26\"], [1.0, \"#f0f921\"]], \"type\": \"histogram2d\"}], \"histogram2dcontour\": [{\"colorbar\": {\"outlinewidth\": 0, \"ticks\": \"\"}, \"colorscale\": [[0.0, \"#0d0887\"], [0.1111111111111111, \"#46039f\"], [0.2222222222222222, \"#7201a8\"], [0.3333333333333333, \"#9c179e\"], [0.4444444444444444, \"#bd3786\"], [0.5555555555555556, \"#d8576b\"], [0.6666666666666666, \"#ed7953\"], [0.7777777777777778, \"#fb9f3a\"], [0.8888888888888888, \"#fdca26\"], [1.0, \"#f0f921\"]], \"type\": \"histogram2dcontour\"}], \"mesh3d\": [{\"colorbar\": {\"outlinewidth\": 0, \"ticks\": \"\"}, \"type\": \"mesh3d\"}], \"parcoords\": [{\"line\": {\"colorbar\": {\"outlinewidth\": 0, \"ticks\": \"\"}}, \"type\": \"parcoords\"}], \"pie\": [{\"automargin\": true, \"type\": \"pie\"}], \"scatter\": [{\"marker\": {\"colorbar\": {\"outlinewidth\": 0, \"ticks\": \"\"}}, \"type\": \"scatter\"}], \"scatter3d\": [{\"line\": {\"colorbar\": {\"outlinewidth\": 0, \"ticks\": \"\"}}, \"marker\": {\"colorbar\": {\"outlinewidth\": 0, \"ticks\": \"\"}}, \"type\": \"scatter3d\"}], \"scattercarpet\": [{\"marker\": {\"colorbar\": {\"outlinewidth\": 0, \"ticks\": \"\"}}, \"type\": \"scattercarpet\"}], \"scattergeo\": [{\"marker\": {\"colorbar\": {\"outlinewidth\": 0, \"ticks\": \"\"}}, \"type\": \"scattergeo\"}], \"scattergl\": [{\"marker\": {\"colorbar\": {\"outlinewidth\": 0, \"ticks\": \"\"}}, \"type\": \"scattergl\"}], \"scattermapbox\": [{\"marker\": {\"colorbar\": {\"outlinewidth\": 0, \"ticks\": \"\"}}, \"type\": \"scattermapbox\"}], \"scatterpolar\": [{\"marker\": {\"colorbar\": {\"outlinewidth\": 0, \"ticks\": \"\"}}, \"type\": \"scatterpolar\"}], \"scatterpolargl\": [{\"marker\": {\"colorbar\": {\"outlinewidth\": 0, \"ticks\": \"\"}}, \"type\": \"scatterpolargl\"}], \"scatterternary\": [{\"marker\": {\"colorbar\": {\"outlinewidth\": 0, \"ticks\": \"\"}}, \"type\": \"scatterternary\"}], \"surface\": [{\"colorbar\": {\"outlinewidth\": 0, \"ticks\": \"\"}, \"colorscale\": [[0.0, \"#0d0887\"], [0.1111111111111111, \"#46039f\"], [0.2222222222222222, \"#7201a8\"], [0.3333333333333333, \"#9c179e\"], [0.4444444444444444, \"#bd3786\"], [0.5555555555555556, \"#d8576b\"], [0.6666666666666666, \"#ed7953\"], [0.7777777777777778, \"#fb9f3a\"], [0.8888888888888888, \"#fdca26\"], [1.0, \"#f0f921\"]], \"type\": \"surface\"}], \"table\": [{\"cells\": {\"fill\": {\"color\": \"#EBF0F8\"}, \"line\": {\"color\": \"white\"}}, \"header\": {\"fill\": {\"color\": \"#C8D4E3\"}, \"line\": {\"color\": \"white\"}}, \"type\": \"table\"}]}, \"layout\": {\"annotationdefaults\": {\"arrowcolor\": \"#2a3f5f\", \"arrowhead\": 0, \"arrowwidth\": 1}, \"coloraxis\": {\"colorbar\": {\"outlinewidth\": 0, \"ticks\": \"\"}}, \"colorscale\": {\"diverging\": [[0, \"#8e0152\"], [0.1, \"#c51b7d\"], [0.2, \"#de77ae\"], [0.3, \"#f1b6da\"], [0.4, \"#fde0ef\"], [0.5, \"#f7f7f7\"], [0.6, \"#e6f5d0\"], [0.7, \"#b8e186\"], [0.8, \"#7fbc41\"], [0.9, \"#4d9221\"], [1, \"#276419\"]], \"sequential\": [[0.0, \"#0d0887\"], [0.1111111111111111, \"#46039f\"], [0.2222222222222222, \"#7201a8\"], [0.3333333333333333, \"#9c179e\"], [0.4444444444444444, \"#bd3786\"], [0.5555555555555556, \"#d8576b\"], [0.6666666666666666, \"#ed7953\"], [0.7777777777777778, \"#fb9f3a\"], [0.8888888888888888, \"#fdca26\"], [1.0, \"#f0f921\"]], \"sequentialminus\": [[0.0, \"#0d0887\"], [0.1111111111111111, \"#46039f\"], [0.2222222222222222, \"#7201a8\"], [0.3333333333333333, \"#9c179e\"], [0.4444444444444444, \"#bd3786\"], [0.5555555555555556, \"#d8576b\"], [0.6666666666666666, \"#ed7953\"], [0.7777777777777778, \"#fb9f3a\"], [0.8888888888888888, \"#fdca26\"], [1.0, \"#f0f921\"]]}, \"colorway\": [\"#636efa\", \"#EF553B\", \"#00cc96\", \"#ab63fa\", \"#FFA15A\", \"#19d3f3\", \"#FF6692\", \"#B6E880\", \"#FF97FF\", \"#FECB52\"], \"font\": {\"color\": \"#2a3f5f\"}, \"geo\": {\"bgcolor\": \"white\", \"lakecolor\": \"white\", \"landcolor\": \"#E5ECF6\", \"showlakes\": true, \"showland\": true, \"subunitcolor\": \"white\"}, \"hoverlabel\": {\"align\": \"left\"}, \"hovermode\": \"closest\", \"mapbox\": {\"style\": \"light\"}, \"paper_bgcolor\": \"white\", \"plot_bgcolor\": \"#E5ECF6\", \"polar\": {\"angularaxis\": {\"gridcolor\": \"white\", \"linecolor\": \"white\", \"ticks\": \"\"}, \"bgcolor\": \"#E5ECF6\", \"radialaxis\": {\"gridcolor\": \"white\", \"linecolor\": \"white\", \"ticks\": \"\"}}, \"scene\": {\"xaxis\": {\"backgroundcolor\": \"#E5ECF6\", \"gridcolor\": \"white\", \"gridwidth\": 2, \"linecolor\": \"white\", \"showbackground\": true, \"ticks\": \"\", \"zerolinecolor\": \"white\"}, \"yaxis\": {\"backgroundcolor\": \"#E5ECF6\", \"gridcolor\": \"white\", \"gridwidth\": 2, \"linecolor\": \"white\", \"showbackground\": true, \"ticks\": \"\", \"zerolinecolor\": \"white\"}, \"zaxis\": {\"backgroundcolor\": \"#E5ECF6\", \"gridcolor\": \"white\", \"gridwidth\": 2, \"linecolor\": \"white\", \"showbackground\": true, \"ticks\": \"\", \"zerolinecolor\": \"white\"}}, \"shapedefaults\": {\"line\": {\"color\": \"#2a3f5f\"}}, \"ternary\": {\"aaxis\": {\"gridcolor\": \"white\", \"linecolor\": \"white\", \"ticks\": \"\"}, \"baxis\": {\"gridcolor\": \"white\", \"linecolor\": \"white\", \"ticks\": \"\"}, \"bgcolor\": \"#E5ECF6\", \"caxis\": {\"gridcolor\": \"white\", \"linecolor\": \"white\", \"ticks\": \"\"}}, \"title\": {\"x\": 0.05}, \"xaxis\": {\"automargin\": true, \"gridcolor\": \"white\", \"linecolor\": \"white\", \"ticks\": \"\", \"title\": {\"standoff\": 15}, \"zerolinecolor\": \"white\", \"zerolinewidth\": 2}, \"yaxis\": {\"automargin\": true, \"gridcolor\": \"white\", \"linecolor\": \"white\", \"ticks\": \"\", \"title\": {\"standoff\": 15}, \"zerolinecolor\": \"white\", \"zerolinewidth\": 2}}}},\n",
       "                        {\"responsive\": true}\n",
       "                    ).then(function(){\n",
       "                            \n",
       "var gd = document.getElementById('88b43364-d61f-4398-abea-ab452b2e5050');\n",
       "var x = new MutationObserver(function (mutations, observer) {{\n",
       "        var display = window.getComputedStyle(gd).display;\n",
       "        if (!display || display === 'none') {{\n",
       "            console.log([gd, 'removed!']);\n",
       "            Plotly.purge(gd);\n",
       "            observer.disconnect();\n",
       "        }}\n",
       "}});\n",
       "\n",
       "// Listen for the removal of the full notebook cells\n",
       "var notebookContainer = gd.closest('#notebook-container');\n",
       "if (notebookContainer) {{\n",
       "    x.observe(notebookContainer, {childList: true});\n",
       "}}\n",
       "\n",
       "// Listen for the clearing of the current output cell\n",
       "var outputEl = gd.closest('.output');\n",
       "if (outputEl) {{\n",
       "    x.observe(outputEl, {childList: true});\n",
       "}}\n",
       "\n",
       "                        })\n",
       "                };\n",
       "                });\n",
       "            </script>\n",
       "        </div>"
      ]
     },
     "metadata": {},
     "output_type": "display_data"
    }
   ],
   "source": [
    "fig = go.Figure(data=[go.Bar(name='Income', x = df['cd_short_title'], y=df['fp_100_mhhi']),\n",
    "                      go.Bar(name='IVP', x = df['cd_short_title'], y = df['IPV_DIR'])\n",
    "                      \n",
    "                     ])\n",
    "fig.update_layout(barmode='group')\n",
    "fig.show()"
   ]
  },
  {
   "cell_type": "code",
   "execution_count": 4,
   "metadata": {},
   "outputs": [],
   "source": [
    "dfi = pd.read_csv('Issues_Table.csv')"
   ]
  },
  {
   "cell_type": "code",
   "execution_count": 5,
   "metadata": {},
   "outputs": [
    {
     "data": {
      "text/html": [
       "<div>\n",
       "<style scoped>\n",
       "    .dataframe tbody tr th:only-of-type {\n",
       "        vertical-align: middle;\n",
       "    }\n",
       "\n",
       "    .dataframe tbody tr th {\n",
       "        vertical-align: top;\n",
       "    }\n",
       "\n",
       "    .dataframe thead th {\n",
       "        text-align: right;\n",
       "    }\n",
       "</style>\n",
       "<table border=\"1\" class=\"dataframe\">\n",
       "  <thead>\n",
       "    <tr style=\"text-align: right;\">\n",
       "      <th></th>\n",
       "      <th>borocd</th>\n",
       "      <th>cd_short_title</th>\n",
       "      <th>IPV_DIR</th>\n",
       "      <th>son_issue_1</th>\n",
       "      <th>son_issue_2</th>\n",
       "      <th>son_issue_3</th>\n",
       "    </tr>\n",
       "  </thead>\n",
       "  <tbody>\n",
       "    <tr>\n",
       "      <th>0</th>\n",
       "      <td>101</td>\n",
       "      <td>Manhattan CD 1</td>\n",
       "      <td>623</td>\n",
       "      <td>Resiliency</td>\n",
       "      <td>Traffic</td>\n",
       "      <td>Other</td>\n",
       "    </tr>\n",
       "    <tr>\n",
       "      <th>1</th>\n",
       "      <td>102</td>\n",
       "      <td>Manhattan CD 2</td>\n",
       "      <td>492</td>\n",
       "      <td>Affordable housing</td>\n",
       "      <td>Parks</td>\n",
       "      <td>Schools</td>\n",
       "    </tr>\n",
       "    <tr>\n",
       "      <th>2</th>\n",
       "      <td>103</td>\n",
       "      <td>Manhattan CD 3</td>\n",
       "      <td>1760</td>\n",
       "      <td>Affordable housing</td>\n",
       "      <td>Senior services</td>\n",
       "      <td>Other</td>\n",
       "    </tr>\n",
       "    <tr>\n",
       "      <th>3</th>\n",
       "      <td>104</td>\n",
       "      <td>Manhattan CD 4</td>\n",
       "      <td>1317</td>\n",
       "      <td>Affordable housing</td>\n",
       "      <td>Neighborhood preservation (development trends)</td>\n",
       "      <td>Traffic</td>\n",
       "    </tr>\n",
       "    <tr>\n",
       "      <th>4</th>\n",
       "      <td>105</td>\n",
       "      <td>Manhattan CD 5</td>\n",
       "      <td>825</td>\n",
       "      <td>Affordable housing</td>\n",
       "      <td>Social services (including services for the ho...</td>\n",
       "      <td>Transit (buses &amp; subways)</td>\n",
       "    </tr>\n",
       "  </tbody>\n",
       "</table>\n",
       "</div>"
      ],
      "text/plain": [
       "   borocd  cd_short_title  IPV_DIR         son_issue_1  \\\n",
       "0     101  Manhattan CD 1      623          Resiliency   \n",
       "1     102  Manhattan CD 2      492  Affordable housing   \n",
       "2     103  Manhattan CD 3     1760  Affordable housing   \n",
       "3     104  Manhattan CD 4     1317  Affordable housing   \n",
       "4     105  Manhattan CD 5      825  Affordable housing   \n",
       "\n",
       "                                         son_issue_2  \\\n",
       "0                                            Traffic   \n",
       "1                                              Parks   \n",
       "2                                    Senior services   \n",
       "3     Neighborhood preservation (development trends)   \n",
       "4  Social services (including services for the ho...   \n",
       "\n",
       "                 son_issue_3  \n",
       "0                      Other  \n",
       "1                    Schools  \n",
       "2                      Other  \n",
       "3                    Traffic  \n",
       "4  Transit (buses & subways)  "
      ]
     },
     "execution_count": 5,
     "metadata": {},
     "output_type": "execute_result"
    }
   ],
   "source": [
    "dfi.head()"
   ]
  },
  {
   "cell_type": "code",
   "execution_count": 12,
   "metadata": {},
   "outputs": [],
   "source": [
    "no1 = dfi.groupby('son_issue_1')['borocd'].count()"
   ]
  },
  {
   "cell_type": "code",
   "execution_count": 11,
   "metadata": {},
   "outputs": [],
   "source": [
    "no2 = dfi.groupby('son_issue_2')['borocd'].count()"
   ]
  },
  {
   "cell_type": "code",
   "execution_count": 10,
   "metadata": {},
   "outputs": [],
   "source": [
    "no3 = dfi.groupby('son_issue_3')['borocd'].count()"
   ]
  },
  {
   "cell_type": "code",
   "execution_count": 16,
   "metadata": {},
   "outputs": [
    {
     "data": {
      "image/png": "[encoded data removed]",
      "text/plain": [
       "<Figure size 432x288 with 1 Axes>"
      ]
     },
     "metadata": {},
     "output_type": "display_data"
    }
   ],
   "source": [
    "ax1 = no1.plot.bar()"
   ]
  },
  {
   "cell_type": "code",
   "execution_count": 15,
   "metadata": {},
   "outputs": [
    {
     "data": {
      "image/png": "[encoded data removed]",
      "text/plain": [
       "<Figure size 432x288 with 1 Axes>"
      ]
     },
     "metadata": {},
     "output_type": "display_data"
    }
   ],
   "source": [
    "ax2 = no2.plot.bar()"
   ]
  },
  {
   "cell_type": "code",
   "execution_count": 17,
   "metadata": {},
   "outputs": [
    {
     "data": {
      "image/png": "[encoded data removed]",
      "text/plain": [
       "<Figure size 432x288 with 1 Axes>"
      ]
     },
     "metadata": {},
     "output_type": "display_data"
    }
   ],
   "source": [
    "ax3 = no3.plot.bar()"
   ]
  },
  {
   "cell_type": "code",
   "execution_count": null,
   "metadata": {},
   "outputs": [],
   "source": []
  }
 ],
 "metadata": {
  "kernelspec": {
   "display_name": "Python 3",
   "language": "python",
   "name": "python3"
  },
  "language_info": {
   "codemirror_mode": {
    "name": "ipython",
    "version": 3
   },
   "file_extension": ".py",
   "mimetype": "text/x-python",
   "name": "python",
   "nbconvert_exporter": "python",
   "pygments_lexer": "ipython3",
   "version": "3.6.5"
  }
 },
 "nbformat": 4,
 "nbformat_minor": 2
}
